{
  "nbformat": 4,
  "nbformat_minor": 0,
  "metadata": {
    "colab": {
      "provenance": [],
      "authorship_tag": "ABX9TyO+CK3ezBGTj/KAAeSs7M0o",
      "include_colab_link": true
    },
    "kernelspec": {
      "name": "python3",
      "display_name": "Python 3"
    },
    "language_info": {
      "name": "python"
    }
  },
  "cells": [
    {
      "cell_type": "markdown",
      "metadata": {
        "id": "view-in-github",
        "colab_type": "text"
      },
      "source": [
        "<a href=\"https://colab.research.google.com/github/RizaldyAli/Pembelajaran_Mesin2023/blob/main/UTS/UTS_Rizaldy_Ali_M_TI3F.ipynb\" target=\"_parent\"><img src=\"https://colab.research.google.com/assets/colab-badge.svg\" alt=\"Open In Colab\"/></a>"
      ]
    },
    {
      "cell_type": "markdown",
      "source": [
        "## UJIAN TENGAH SEMESTER MACHINE LEARNING\n",
        "\n",
        "### Rizaldy Ali Machfuddin <br>\n",
        "### 2141720115 <br>\n",
        "### TI-3F/26<br>\n",
        "\n",
        "-------"
      ],
      "metadata": {
        "id": "zOf3wyiSpYPq"
      }
    },
    {
      "cell_type": "markdown",
      "source": [
        "# Ketentuan UTS"
      ],
      "metadata": {
        "id": "j8gnnGCYpuAd"
      }
    },
    {
      "cell_type": "markdown",
      "source": [
        "Berdasarkan pemaparan kasus, Anda diminta untuk,\n",
        "\n",
        "1. Pilih 5 citra plat nomor untuk setiap anggota kelompok dari dataset yang telah disediakan. [DOWNLOAD](https://storage.googleapis.com/kuliah_mah/dummy.zip)\n",
        "2. Lakukan segmentasi pada citra plat nomor untuk memperjelas karakter pada plat nomor.\n",
        "3. Anda dapat menggunakan algortima K-Means seperti yang telah dijelaskan pada praktikum sebelumnya atau menggunakan algoritma klasterisasi yang lain.\n",
        "4. Anda diperkenankan untuk melakukan pra pengolahan data (preprocessing) pada citra seperti,\n",
        "    - Merubah color space\n",
        "    - Reduksi dimensi\n",
        "    - dsb\n",
        "5. Tampilkan perbandingan citra antara sebelum dan sesudah di segmentasi\n",
        "\n",
        "**Open Challange** (Opsional)\n",
        " - Bagaimana cara melakukan evaluasi pada hasil segementasi?\n",
        " - Terapkan pada kasus ini!\n",
        "\n",
        "\n",
        "**Catatan:**\n",
        "1. Proses loading citra dicontohkan dengan menggunakan library openCV\n",
        "2. Secara default, openCV akan memuat citra dalam format BGR"
      ],
      "metadata": {
        "id": "BYXfBsETpbrv"
      }
    },
    {
      "cell_type": "markdown",
      "source": [
        "# PLAT 1"
      ],
      "metadata": {
        "id": "JXUXayN7p7KS"
      }
    },
    {
      "cell_type": "code",
      "source": [
        "from google.colab import drive\n",
        "drive.mount('/content/drive')"
      ],
      "metadata": {
        "id": "NOgvbCuZqLIG",
        "outputId": "9112fd90-e7a6-4844-9d53-1569ca850a74",
        "colab": {
          "base_uri": "https://localhost:8080/"
        }
      },
      "execution_count": 1,
      "outputs": [
        {
          "output_type": "stream",
          "name": "stdout",
          "text": [
            "Mounted at /content/drive\n"
          ]
        }
      ]
    },
    {
      "cell_type": "code",
      "source": [
        "import numpy as np\n",
        "import cv2\n",
        "import matplotlib.pyplot as plt\n",
        "from google.colab.patches import cv2_imshow # path cv2.imshow di google colab"
      ],
      "metadata": {
        "id": "Rmf0HjaxqU9M"
      },
      "execution_count": 2,
      "outputs": []
    },
    {
      "cell_type": "markdown",
      "source": [
        "# PLAT 1"
      ],
      "metadata": {
        "id": "4INWKt1rp-rO"
      }
    },
    {
      "cell_type": "markdown",
      "source": [
        "# PLAT 2"
      ],
      "metadata": {
        "id": "NHYqMaLvp_Hi"
      }
    },
    {
      "cell_type": "markdown",
      "source": [
        "# PLAT 3"
      ],
      "metadata": {
        "id": "VJuU3L2Zp_Mr"
      }
    },
    {
      "cell_type": "markdown",
      "source": [
        "# PLAT 4"
      ],
      "metadata": {
        "id": "3Zwo75bip_Sc"
      }
    },
    {
      "cell_type": "markdown",
      "source": [
        "# PLAT 5"
      ],
      "metadata": {
        "id": "IUybdYTTqCqQ"
      }
    },
    {
      "cell_type": "code",
      "source": [],
      "metadata": {
        "id": "TzodoUjjpggB"
      },
      "execution_count": null,
      "outputs": []
    }
  ]
}